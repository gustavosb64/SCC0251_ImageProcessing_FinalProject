{
  "nbformat": 4,
  "nbformat_minor": 0,
  "metadata": {
    "colab": {
      "name": "rivers.ipynb",
      "provenance": []
    },
    "kernelspec": {
      "name": "python3",
      "display_name": "Python 3"
    },
    "language_info": {
      "name": "python"
    }
  },
  "cells": [
    {
      "cell_type": "markdown",
      "source": [
        "# **Extracting Rivers from Satellite Images**\n",
        "\n",
        "This project aims to test image processing algorithms such as Thresholding, Color Processing, Canny Algorithm, etc to extract river shapes from satellite images. Using images from INPE ([http://www.dgi.inpe.br](http://www.dgi.inpe.br/)) as input, we expect to get interesting output images that highlight the water areas of rivers."
      ],
      "metadata": {
        "id": "qqjjdq_Wyvg1"
      }
    },
    {
      "cell_type": "code",
      "execution_count": null,
      "metadata": {
        "id": "O4B9sFnZybGl"
      },
      "outputs": [],
      "source": [
        "import numpy as np\n",
        "import matplotlib.pyplot as plt\n",
        "import imageio as iio"
      ]
    },
    {
      "cell_type": "code",
      "source": [
        "def limiarization(img, T):\n",
        "\n",
        "  img1 = np.zeros(img.shape)\n",
        "\n",
        "  img1[img > T] = 1\n",
        "\n",
        "  return img1\n",
        "\n",
        "\n",
        "def optimal_T(img0, T_0):\n",
        "\n",
        "  T = 0\n",
        "  Tp = 1\n",
        "\n",
        "  wid, hei = img0.shape\n",
        "\n",
        "  img = limiarization(img0, T_0)\n",
        "\n",
        "  while( np.abs(T - Tp) >= 0.5):\n",
        "\n",
        "    avg1 = np.sum(img0, where = img == 0)\n",
        "    avg2 = np.sum(img0, where = img == 1)\n",
        "\n",
        "    img00 = img == 0\n",
        "    img01 = img == 1\n",
        "    count1 = np.sum(img00, where = img00 == 1)\n",
        "    count2 = np.sum(img01, where = img01 == 1)\n",
        "\n",
        "    avg1 = avg1/count1\n",
        "    avg2 = avg2/count2\n",
        "\n",
        "    Tp = T\n",
        "\n",
        "    T = 0.5*(avg1 + avg2)\n",
        "\n",
        "    img = limiarization(img0, T)\n",
        "\n",
        "  return T\n",
        "\n",
        "def normalize(img : np.ndarray, min, max):\n",
        "  '''Function that converts an image to the given desired range.'''\n",
        "  return ((img - np.min(img))/(np.max(img) - np.min(img)))*(max - min) + min\n",
        "\n",
        "\n",
        "def gaussian_filter(k: int, sigma: float):\n",
        "  '''Returns a gaussian filter from the following parameters:\n",
        "     - k : int -> lateral size of the filter\n",
        "     - sigma : float -> size of the blur. The higher the sigma the lower the blurred area, hence weaker the blurring effect.\n",
        "  '''\n",
        "     \n",
        "  rangex = np.arange((-k // 2) + 1.0, (k // 2) + 1.0)\n",
        "  x, y = np.meshgrid(rangex, rangex)\n",
        "  filt = np.exp(-(1/2)*(np.square(x) + np.square(y)) / np.square(sigma)) \n",
        "  return filt/np.sum(filt)"
      ],
      "metadata": {
        "id": "iDPuANKkzJHL"
      },
      "execution_count": null,
      "outputs": []
    },
    {
      "cell_type": "code",
      "source": [
        "img = iio.imread(\"amaz3.jpeg\")\n",
        "\n",
        "plt.figure(figsize = (10, 10))\n",
        "plt.imshow(img)\n",
        "plt.title(\"Imagem Original\")\n",
        "plt.axis(\"off\")\n",
        "plt.show()"
      ],
      "metadata": {
        "id": "fosbiOd8ydZ7"
      },
      "execution_count": null,
      "outputs": []
    },
    {
      "cell_type": "markdown",
      "source": [
        "Below, the best color channel was selected to process a river. As a beggining example, the green channel was selected, as the river is highlited more in blueish tones and has less presence of green in its final color."
      ],
      "metadata": {
        "id": "5R-CBt6iyq2y"
      }
    },
    {
      "cell_type": "code",
      "source": [
        "plt.figure( figsize = (20, 20))\n",
        "\n",
        "plt.subplot(141)\n",
        "plt.imshow(img)\n",
        "plt.title(\"Original\")\n",
        "plt.axis(\"off\")\n",
        "\n",
        "plt.subplot(142)\n",
        "plt.imshow(img[:, :, 0], cmap = \"gray\")\n",
        "plt.title(\"Vermelho\")\n",
        "plt.axis(\"off\")\n",
        "\n",
        "plt.subplot(143)\n",
        "plt.imshow(img[:, :, 1], cmap = \"gray\")\n",
        "plt.title(\"Verde\")\n",
        "plt.axis(\"off\")\n",
        "\n",
        "plt.subplot(144)\n",
        "plt.imshow(img[:, :, 2], cmap = \"gray\")\n",
        "plt.title(\"Azul\")\n",
        "plt.axis(\"off\")\n",
        "\n",
        "plt.show()\n",
        "\n",
        "\n",
        "#Selecionando o canal verde\n",
        "img1 = img[:, :, 1]"
      ],
      "metadata": {
        "id": "nUzqJxvayjpQ"
      },
      "execution_count": null,
      "outputs": []
    },
    {
      "cell_type": "markdown",
      "source": [
        "Starting with the green channel, the limiarization process was used to segment the image into two binary parts."
      ],
      "metadata": {
        "id": "qNvbTzfjy7Nm"
      }
    },
    {
      "cell_type": "code",
      "source": [
        "#Applying the limiazitation method\n",
        "T = optimal_T(img1, 67)\n",
        "imgfinal = limiarization(img1, T)\n",
        "\n",
        "\n",
        "imgfinal = normalize(imgfinal, 0, 255).astype(np.uint8)\n",
        "\n",
        "\n",
        "plt.figure(figsize = (20, 20))\n",
        "\n",
        "plt.subplot(121)\n",
        "plt.imshow(img, cmap = \"gray\")\n",
        "plt.title(\"Before Limiarization\")\n",
        "plt.axis(\"off\")\n",
        "\n",
        "plt.subplot(122)\n",
        "plt.imshow(imgfinal, cmap = \"gray\")\n",
        "plt.title(\"After Limiarization\")\n",
        "plt.axis(\"off\")"
      ],
      "metadata": {
        "id": "LQDoEkx3y_Hc"
      },
      "execution_count": null,
      "outputs": []
    }
  ]
}